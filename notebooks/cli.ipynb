{
 "cells": [
  {
   "cell_type": "code",
   "execution_count": 17,
   "metadata": {},
   "outputs": [
    {
     "name": "stdout",
     "output_type": "stream",
     "text": [
      "Processing /home/salomew/PycharmProjects/conversational_agent_for_medical_dialogues/src/conversation\n",
      "  Preparing metadata (setup.py) ... \u001b[?25ldone\n",
      "\u001b[?25hBuilding wheels for collected packages: conversation\n",
      "  Building wheel for conversation (setup.py) ... \u001b[?25ldone\n",
      "\u001b[?25h  Created wheel for conversation: filename=conversation-1.0-py3-none-any.whl size=2567 sha256=18bee6aacbea6a0acdec8eddc3ca6f9403fcdac00e4348f513d7d919f0460589\n",
      "  Stored in directory: /tmp/pip-ephem-wheel-cache-r293i9gz/wheels/36/16/97/8f51cc89595cbdfb3957e717fc846f6052ad4babf245d60df3\n",
      "Successfully built conversation\n",
      "Installing collected packages: conversation\n",
      "Successfully installed conversation-1.0\n",
      "\n",
      "\u001b[1m[\u001b[0m\u001b[34;49mnotice\u001b[0m\u001b[1;39;49m]\u001b[0m\u001b[39;49m A new release of pip available: \u001b[0m\u001b[31;49m22.3\u001b[0m\u001b[39;49m -> \u001b[0m\u001b[32;49m22.3.1\u001b[0m\n",
      "\u001b[1m[\u001b[0m\u001b[34;49mnotice\u001b[0m\u001b[1;39;49m]\u001b[0m\u001b[39;49m To update, run: \u001b[0m\u001b[32;49mpip install --upgrade pip\u001b[0m\n"
     ]
    }
   ],
   "source": [
    "!pip3.7 install ../src/conversation/"
   ]
  },
  {
   "cell_type": "code",
   "execution_count": 21,
   "metadata": {},
   "outputs": [],
   "source": [
    "import conversation"
   ]
  },
  {
   "cell_type": "code",
   "execution_count": 4,
   "metadata": {},
   "outputs": [],
   "source": [
    "import time\n",
    "\n",
    "class CLI:\n",
    "    def __init__(self):\n",
    "        self.a = input(\"Hello, are you ready? \")\n",
    "\n",
    "    def talk(self):\n",
    "        for y in range (0,3):\n",
    "            for x in range (0,5):  \n",
    "                b = \"Typing\" + \".\" * x\n",
    "                print (b, end=\"\\r\")\n",
    "                time.sleep(1)\n",
    "            b = \"             \"\n",
    "            print (b, end=\"\\r\")\n",
    "            time.sleep(0.1)\n",
    "        # When answer is ready (from concurrent thread) --> break\n",
    "        b = \"next question:\"\n",
    "        #print (b, end=\"\\r\")\n",
    "        if self.a == \"yes\":\n",
    "            print(\"Welcome!!!\")\n",
    "        else:\n",
    "            print(\"I have time.\")\n",
    "#Implement concurrently to answer generation"
   ]
  },
  {
   "cell_type": "code",
   "execution_count": 5,
   "metadata": {},
   "outputs": [
    {
     "name": "stdout",
     "output_type": "stream",
     "text": [
      "Hello, are you ready? yes\n",
      "Welcome!!!   \n"
     ]
    }
   ],
   "source": [
    "cli = CLI()\n",
    "cli.talk()"
   ]
  },
  {
   "cell_type": "code",
   "execution_count": 19,
   "metadata": {},
   "outputs": [],
   "source": []
  },
  {
   "cell_type": "code",
   "execution_count": null,
   "metadata": {},
   "outputs": [],
   "source": []
  }
 ],
 "metadata": {
  "kernelspec": {
   "display_name": "Python 3 (ipykernel)",
   "language": "python",
   "name": "python3"
  },
  "language_info": {
   "codemirror_mode": {
    "name": "ipython",
    "version": 3
   },
   "file_extension": ".py",
   "mimetype": "text/x-python",
   "name": "python",
   "nbconvert_exporter": "python",
   "pygments_lexer": "ipython3",
   "version": "3.7.4"
  }
 },
 "nbformat": 4,
 "nbformat_minor": 2
}
